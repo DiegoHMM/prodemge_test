{
 "cells": [
  {
   "cell_type": "code",
   "execution_count": 1,
   "metadata": {},
   "outputs": [],
   "source": [
    "import re\n",
    "from pdfminer.high_level import extract_text\n",
    "\n",
    "def get_atvs(directory, filename, separator):\n",
    "\n",
    "    # Carregando o texto do arquivo PDF utf 8\n",
    "    texto = extract_text(f'{directory}/{filename}', codec='utf-8')\n",
    "\n",
    "    # Expressão regular para capturar o texto entre \"Atividades:\" e o padrão especificado \"LETRA,LETRA,LETRA,NUMERO,NUMERO,PONTO,NUMERO,NUMERO\"\n",
    "    padrao = re.compile(r'Atividades:(.*?)(?=\\b[A-Z]{3}\\d{2}\\.\\d{2}\\b|$)', re.DOTALL)\n",
    "\n",
    "    # Encontrar todas as correspondências\n",
    "    atividades = padrao.findall(texto)\n",
    "\n",
    "\n",
    "    if separator == 'paragraph':\n",
    "\n",
    "        return [clean_atvs(text) for text in atividades]\n",
    "\n",
    "    elif separator == 'phrase':\n",
    "\n",
    "        # Processar cada conjunto de atividades para separá-las corretamente\n",
    "        atividades_separadas = [re.split(r'\\n\\d+\\.\\s*', ativ.strip()) for ativ in atividades]\n",
    "\n",
    "        # Achatando a lista de listas em uma única lista e filtrando entradas vazias\n",
    "        atividades_finais = [item for sublist in atividades_separadas for item in sublist if item]\n",
    "\n",
    "        return [clean_atvs(text) for text in atividades_finais]\n",
    "        "
   ]
  },
  {
   "cell_type": "code",
   "execution_count": 2,
   "metadata": {},
   "outputs": [],
   "source": [
    "import unidecode\n",
    "import re\n",
    "\n",
    "def clean_atvs(texto):\n",
    "    # Normaliza o texto removendo acentos e convertendo para minúsculas\n",
    "    texto_limpo = unidecode.unidecode(texto).lower()\n",
    "\n",
    "    # Remove números seguidos por pontos, e caracteres não-alfabéticos exceto espaços\n",
    "    texto_limpo = re.sub(r'\\d+\\.', '', texto_limpo)\n",
    "    texto_limpo = re.sub(r'[^a-z\\s]', '', texto_limpo)\n",
    "\n",
    "    # Remove múltiplos espaços e a palavra 'atividade'\n",
    "    texto_limpo = re.sub(r'\\s+', ' ', texto_limpo)\n",
    "    texto_limpo = re.sub(r'\\batividade\\b', '', texto_limpo)\n",
    "\n",
    "    # Remove espaços extras no início e no final\n",
    "    texto_limpo = texto_limpo.strip()\n",
    "    \n",
    "\n",
    "    return None if texto_limpo == '' else texto_limpo\n"
   ]
  },
  {
   "cell_type": "code",
   "execution_count": 3,
   "metadata": {},
   "outputs": [],
   "source": [
    "import os\n",
    "directory_list = os.listdir('Corpus')\n",
    "\n",
    "corpus = {}\n",
    "for directory in directory_list:\n",
    "    file_list = os.listdir(f'Corpus/{directory}')\n",
    "    for file in file_list:\n",
    "        atvs = get_atvs(f'Corpus/{directory}', file, separator='paragraph')\n",
    "        atvs = [atv for atv in atvs if atv]\n",
    "        corpus[directory] = corpus.get(directory, []) + atvs\n",
    "\n",
    "#Save corpus to json\n",
    "import json\n",
    "with open('corpus.json', 'w', encoding='utf-8') as f:\n",
    "    json.dump(corpus, f, ensure_ascii=False, indent=4)"
   ]
  },
  {
   "cell_type": "markdown",
   "metadata": {},
   "source": [
    "#### TF IDF with SVM"
   ]
  },
  {
   "cell_type": "code",
   "execution_count": 4,
   "metadata": {},
   "outputs": [
    {
     "name": "stderr",
     "output_type": "stream",
     "text": [
      "[nltk_data] Downloading package stopwords to\n",
      "[nltk_data]     C:\\Users\\diego\\AppData\\Roaming\\nltk_data...\n",
      "[nltk_data]   Package stopwords is already up-to-date!\n"
     ]
    }
   ],
   "source": [
    "import nltk\n",
    "from nltk.corpus import stopwords\n",
    "nltk.download('stopwords')\n",
    "stop_words = stopwords.words('portuguese')"
   ]
  },
  {
   "cell_type": "code",
   "execution_count": 5,
   "metadata": {},
   "outputs": [],
   "source": [
    "from sklearn.feature_extraction.text import TfidfVectorizer\n",
    "from sklearn.model_selection import train_test_split\n",
    "\n",
    "\n",
    "atividades = []\n",
    "labels = []\n",
    "\n",
    "for label,atvs in corpus.items():\n",
    "    if atvs != None:\n",
    "        atividades.extend(atvs)\n",
    "        labels.extend([label]*len(atvs))"
   ]
  },
  {
   "cell_type": "code",
   "execution_count": 6,
   "metadata": {},
   "outputs": [],
   "source": [
    "X_train, X_test, y_train, y_test = train_test_split(atividades, labels, test_size=0.2, random_state=10, shuffle=True)\n",
    "\n",
    "vectorizer = TfidfVectorizer(stop_words=stop_words)\n",
    "X_train = vectorizer.fit_transform(X_train)\n",
    "X_test = vectorizer.transform(X_test)\n"
   ]
  },
  {
   "cell_type": "code",
   "execution_count": 7,
   "metadata": {},
   "outputs": [
    {
     "name": "stdout",
     "output_type": "stream",
     "text": [
      "Accuracy: 0.7857142857142857\n"
     ]
    }
   ],
   "source": [
    "from sklearn.svm import SVC\n",
    "from sklearn.metrics import accuracy_score\n",
    "\n",
    "# Treinando o modelo SVM\n",
    "svm_model = SVC(kernel='linear')\n",
    "svm_model.fit(X_train, y_train)\n",
    "\n",
    "# Fazendo previsões no conjunto de teste\n",
    "y_pred = svm_model.predict(X_test)\n",
    "\n",
    "# Avaliando o modelo\n",
    "print(\"Accuracy:\", accuracy_score(y_test, y_pred))"
   ]
  },
  {
   "cell_type": "markdown",
   "metadata": {},
   "source": [
    "### Word2Vec"
   ]
  },
  {
   "cell_type": "code",
   "execution_count": 8,
   "metadata": {},
   "outputs": [],
   "source": [
    "import gensim"
   ]
  },
  {
   "cell_type": "code",
   "execution_count": null,
   "metadata": {},
   "outputs": [],
   "source": []
  },
  {
   "cell_type": "code",
   "execution_count": null,
   "metadata": {},
   "outputs": [],
   "source": []
  },
  {
   "cell_type": "code",
   "execution_count": null,
   "metadata": {},
   "outputs": [],
   "source": []
  },
  {
   "cell_type": "code",
   "execution_count": null,
   "metadata": {},
   "outputs": [],
   "source": []
  }
 ],
 "metadata": {
  "kernelspec": {
   "display_name": "prodemge_env",
   "language": "python",
   "name": "python3"
  },
  "language_info": {
   "codemirror_mode": {
    "name": "ipython",
    "version": 3
   },
   "file_extension": ".py",
   "mimetype": "text/x-python",
   "name": "python",
   "nbconvert_exporter": "python",
   "pygments_lexer": "ipython3",
   "version": "3.8.19"
  }
 },
 "nbformat": 4,
 "nbformat_minor": 2
}
