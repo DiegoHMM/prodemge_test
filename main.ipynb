{
 "cells": [
  {
   "cell_type": "code",
   "execution_count": 1,
   "metadata": {},
   "outputs": [],
   "source": [
    "import re\n",
    "from pdfminer.high_level import extract_text\n",
    "\n",
    "def get_atvs(directory, filename, separator):\n",
    "    # Carregando o texto do arquivo PDF utf 8\n",
    "    texto = extract_text(f'{directory}/{filename}', codec='utf-8')\n",
    "    # Expressão regular para capturar o texto entre \"Atividades:\" e o padrão especificado \"LETRA,LETRA,LETRA,NUMERO,NUMERO,PONTO,NUMERO,NUMERO\"\n",
    "    padrao = re.compile(r'Atividades:(.*?)(?=\\b[A-Z]{3}\\d{2}\\.\\d{2}\\b|$)', re.DOTALL)\n",
    "    # Encontrar todas as correspondências\n",
    "    atividades = padrao.findall(texto)\n",
    "\n",
    "    if separator == 'paragraph':\n",
    "        return [clean_atvs(text) for text in atividades]\n",
    "\n",
    "    elif separator == 'phrase':\n",
    "        # Processar cada conjunto de atividades para separá-las corretamente\n",
    "        atividades_separadas = [re.split(r'\\n\\d+\\.\\s*', ativ.strip()) for ativ in atividades]\n",
    "        # Achatando a lista de listas em uma única lista e filtrando entradas vazias\n",
    "        atividades_finais = [item for sublist in atividades_separadas for item in sublist if item]\n",
    "\n",
    "        return [clean_atvs(text) for text in atividades_finais]\n",
    "        "
   ]
  },
  {
   "cell_type": "code",
   "execution_count": 2,
   "metadata": {},
   "outputs": [],
   "source": [
    "import unidecode\n",
    "import re\n",
    "\n",
    "def clean_atvs(texto):\n",
    "    # Normaliza o texto removendo acentos e convertendo para minúsculas\n",
    "    texto_limpo = unidecode.unidecode(texto).lower()\n",
    "\n",
    "    # Remove números seguidos por pontos, e caracteres não-alfabéticos exceto espaços\n",
    "    texto_limpo = re.sub(r'\\d+\\.', '', texto_limpo)\n",
    "    texto_limpo = re.sub(r'[^a-z\\s]', '', texto_limpo)\n",
    "\n",
    "    # Remove múltiplos espaços e a palavra 'atividade'\n",
    "    texto_limpo = re.sub(r'\\s+', ' ', texto_limpo)\n",
    "    texto_limpo = re.sub(r'\\batividade\\b', '', texto_limpo)\n",
    "\n",
    "    # Remove espaços extras no início e no final\n",
    "    texto_limpo = texto_limpo.strip()\n",
    "    \n",
    "\n",
    "    return None if texto_limpo == '' else texto_limpo\n"
   ]
  },
  {
   "cell_type": "markdown",
   "metadata": {},
   "source": [
    "##### Define Corpus"
   ]
  },
  {
   "cell_type": "code",
   "execution_count": 3,
   "metadata": {},
   "outputs": [],
   "source": [
    "\n",
    "import os\n",
    "directory_list = os.listdir('Corpus')\n",
    "\n",
    "corpus = {}\n",
    "for directory in directory_list:\n",
    "    file_list = os.listdir(f'Corpus/{directory}')\n",
    "    for file in file_list:\n",
    "        atvs = get_atvs(f'Corpus/{directory}', file, separator='paragraph')\n",
    "        atvs = [atv for atv in atvs if atv]\n",
    "        corpus[directory] = corpus.get(directory, []) + atvs"
   ]
  },
  {
   "cell_type": "markdown",
   "metadata": {},
   "source": [
    "##### Verifica balanceamento"
   ]
  },
  {
   "cell_type": "code",
   "execution_count": 4,
   "metadata": {},
   "outputs": [
    {
     "name": "stdout",
     "output_type": "stream",
     "text": [
      "APO: 71\n",
      "BAI: 67\n",
      "DSS: 37\n",
      "EDM: 15\n",
      "MEA: 17\n"
     ]
    }
   ],
   "source": [
    "# Verificar o balanceamento\n",
    "for key, value in corpus.items():\n",
    "    print(f'{key}: {len(value)}')"
   ]
  },
  {
   "cell_type": "code",
   "execution_count": 5,
   "metadata": {},
   "outputs": [],
   "source": [
    "from sklearn.utils import resample\n",
    "\n",
    "# Função para balancear os dados\n",
    "def balance_data(corpus):\n",
    "    max_size = max(len(value) for value in corpus.values())\n",
    "    balanced_corpus = {key: resample(value, replace=True, n_samples=max_size, random_state=42) for key, value in corpus.items()}\n",
    "    return balanced_corpus\n",
    "\n",
    "# Balancear o corpus\n",
    "balanced_corpus = balance_data(corpus)"
   ]
  },
  {
   "cell_type": "code",
   "execution_count": 6,
   "metadata": {},
   "outputs": [
    {
     "name": "stdout",
     "output_type": "stream",
     "text": [
      "APO: 71\n",
      "BAI: 71\n",
      "DSS: 71\n",
      "EDM: 71\n",
      "MEA: 71\n"
     ]
    }
   ],
   "source": [
    "# Verificar o balanceamento\n",
    "for key, value in balanced_corpus.items():\n",
    "    print(f'{key}: {len(value)}')\n"
   ]
  },
  {
   "cell_type": "code",
   "execution_count": 7,
   "metadata": {},
   "outputs": [],
   "source": [
    "#Save corpus to json\n",
    "import json\n",
    "with open('corpus.json', 'w', encoding='utf-8') as f:\n",
    "    json.dump(corpus, f, ensure_ascii=False, indent=4)"
   ]
  },
  {
   "cell_type": "markdown",
   "metadata": {},
   "source": [
    "##### Define Alvos"
   ]
  },
  {
   "cell_type": "code",
   "execution_count": 16,
   "metadata": {},
   "outputs": [],
   "source": [
    "import os\n",
    "alvos_files = os.listdir('Alvo')\n"
   ]
  },
  {
   "cell_type": "code",
   "execution_count": 17,
   "metadata": {},
   "outputs": [],
   "source": [
    "from pdfminer.high_level import extract_text\n",
    "\n",
    "\n",
    "alvos_data_raw = []\n",
    "[alvos_data_raw.append(extract_text(f'Alvo/{file}', codec='utf-8')) for file in alvos_files]\n",
    "alvos_data = [clean_atvs(texto) for texto in alvos_data_raw]"
   ]
  },
  {
   "cell_type": "code",
   "execution_count": 18,
   "metadata": {},
   "outputs": [
    {
     "data": {
      "text/plain": [
       "['estabelecer uma estrutura organizacional interna e estendida que reflita necessidades de negocios e prioridades de ti colocar em pratica as estruturas de gestao necessarias por exemplo comites que permitam que a tomada de decisoes de gestao ocorra da forma mais eficaz e eficiente definir o escopo as funcoes internas e externas os papeis internos e externos as capacidades e os direitos de decisao necessarios incluindo as atividades de ti realizadas por terceiros definir o escopo as funcoes internas e externas os papeis internos e externos as capacidades e os direitos de decisao necessarios incluindo as atividades de ti realizadas por terceiros identificar as decisoes necessarias para o alcance dos resultados da empresa e da estrategia de ti bem como para a gestao e execucao dos servicos de ti estabelecer o envolvimento das partes interessadas que sao fundamentais para a tomada de decisoes aprovador responsavel consultado ou informado alinhar a organizacao relacionada a ti com modelos organizacionais da arquitetura corporativa definir o foco os papeis e as responsabilidades de cada funcao dentro da estrutura organizacional relacionada a ti definir as estruturas de gestao e as relacoes de apoio as funcoes e papeis de gestao e execucao em sintonia com o conjunto de diretrizes de governanca',\n",
       " 'manter uma abordagem padrao para o gerenciamento de programas e projetos manter uma abordagem padrao para o gerenciamento de programas e projetos que possibilite a analise de governanca e gestao e as atividades de tomada de decisao e entrega de produtos focadas na obtencao de valor e metas requisitos riscos custos cronograma qualidade para a empresa de forma consistente manter uma abordagem padrao de gestao de programas e projetos alinhada ao ambiente especifico da empresa e com boas praticas baseadas em processos definidos e na utilizacao de tecnologias adequadas cubrindo todo o ciclo de vida e disciplinas atualizar a abordagem de gerenciamento de programas e projetos com base nas licoes aprendidas com seu uso',\n",
       " 'definir a politica de continuidade de negocios objetivos e escopo definir a politica de continuidade de negocios e alcance alinhados com os objetivos da empresa e das partes interessadas identificar os processos internos e externos de negocios e atividades de servicos que sao criticos para as operacoes da empresa ou necessarios para cumprir obrigacoes legais e ou contratuais identificar as principais partes interessadas e os papeis e responsabilidades para definir e concordar com a politica e o escopo da continuidade definir e documentar os objetivos politicos minimos acordados e o ambito para a continuidade das atividades e integrar a necessidade de um planejamento de continuidade na cultura empresarial identificar os principais processos empresariais de suporte e os servicos de ti relacionados']"
      ]
     },
     "execution_count": 18,
     "metadata": {},
     "output_type": "execute_result"
    }
   ],
   "source": [
    "alvos_data"
   ]
  },
  {
   "cell_type": "markdown",
   "metadata": {},
   "source": [
    "## TF IDF with SVM"
   ]
  },
  {
   "cell_type": "code",
   "execution_count": 20,
   "metadata": {},
   "outputs": [
    {
     "name": "stderr",
     "output_type": "stream",
     "text": [
      "[nltk_data] Downloading package stopwords to\n",
      "[nltk_data]     C:\\Users\\diego\\AppData\\Roaming\\nltk_data...\n",
      "[nltk_data]   Package stopwords is already up-to-date!\n"
     ]
    }
   ],
   "source": [
    "import nltk\n",
    "from nltk.corpus import stopwords\n",
    "nltk.download('stopwords')\n",
    "stop_words = stopwords.words('portuguese')"
   ]
  },
  {
   "cell_type": "code",
   "execution_count": 31,
   "metadata": {},
   "outputs": [],
   "source": [
    "from sklearn.feature_extraction.text import TfidfVectorizer\n",
    "from sklearn.model_selection import train_test_split\n",
    "\n",
    "\n",
    "atividades = []\n",
    "labels = []\n",
    "\n",
    "for label,atvs in balanced_corpus.items():\n",
    "    if atvs != None:\n",
    "        atividades.extend(atvs)\n",
    "        labels.extend([label]*len(atvs))"
   ]
  },
  {
   "cell_type": "code",
   "execution_count": 32,
   "metadata": {},
   "outputs": [],
   "source": [
    "X_train, X_test, y_train, y_test = train_test_split(atividades, labels, test_size=0.2, random_state=10, shuffle=True)\n",
    "\n",
    "vectorizer = TfidfVectorizer(stop_words=stop_words)\n",
    "X_train = vectorizer.fit_transform(X_train)\n",
    "X_test = vectorizer.transform(X_test)\n"
   ]
  },
  {
   "cell_type": "code",
   "execution_count": 33,
   "metadata": {},
   "outputs": [
    {
     "name": "stdout",
     "output_type": "stream",
     "text": [
      "Accuracy: 0.971830985915493\n"
     ]
    }
   ],
   "source": [
    "from sklearn.svm import SVC\n",
    "from sklearn.metrics import accuracy_score\n",
    "\n",
    "# Treinando o modelo SVM\n",
    "svm_model = SVC(kernel='linear')\n",
    "svm_model.fit(X_train, y_train)\n",
    "\n",
    "# Fazendo previsões no conjunto de teste\n",
    "y_pred = svm_model.predict(X_test)\n",
    "\n",
    "# Avaliando o modelo\n",
    "print(\"Accuracy:\", accuracy_score(y_test, y_pred))"
   ]
  },
  {
   "cell_type": "code",
   "execution_count": 34,
   "metadata": {},
   "outputs": [
    {
     "data": {
      "image/png": "[encoded data removed]",
      "text/plain": [
       "<Figure size 1000x700 with 2 Axes>"
      ]
     },
     "metadata": {},
     "output_type": "display_data"
    }
   ],
   "source": [
    "#confusion matrix\n",
    "from sklearn.metrics import confusion_matrix\n",
    "import seaborn as sns\n",
    "import matplotlib.pyplot as plt\n",
    "\n",
    "cm = confusion_matrix(y_test, y_pred)\n",
    "plt.figure(figsize=(10,7))\n",
    "\n",
    "sns.heatmap(cm, annot=True, fmt='d', xticklabels=corpus.keys(), yticklabels=corpus.keys())\n",
    "plt.ylabel('Actual')\n",
    "plt.xlabel('Predicted')\n",
    "plt.show()"
   ]
  },
  {
   "cell_type": "code",
   "execution_count": 35,
   "metadata": {},
   "outputs": [
    {
     "data": {
      "text/plain": [
       "array(['APO', 'APO', 'DSS'], dtype='<U3')"
      ]
     },
     "execution_count": 35,
     "metadata": {},
     "output_type": "execute_result"
    }
   ],
   "source": [
    "#predict text\n",
    "svm_model.predict(vectorizer.transform(alvos_data))"
   ]
  },
  {
   "cell_type": "markdown",
   "metadata": {},
   "source": [
    "## Bertimbau"
   ]
  },
  {
   "cell_type": "code",
   "execution_count": 8,
   "metadata": {},
   "outputs": [
    {
     "name": "stderr",
     "output_type": "stream",
     "text": [
      "c:\\Users\\diego\\miniconda3\\envs\\prodemge_env\\lib\\site-packages\\tqdm\\auto.py:21: TqdmWarning: IProgress not found. Please update jupyter and ipywidgets. See https://ipywidgets.readthedocs.io/en/stable/user_install.html\n",
      "  from .autonotebook import tqdm as notebook_tqdm\n"
     ]
    }
   ],
   "source": [
    "import optuna\n",
    "from transformers import AutoTokenizer, AutoModelForSequenceClassification\n",
    "import torch\n",
    "from torch.utils.data import DataLoader, TensorDataset, random_split\n",
    "from torch.optim import AdamW\n",
    "from transformers import get_linear_schedule_with_warmup\n",
    "from sklearn.model_selection import train_test_split"
   ]
  },
  {
   "cell_type": "code",
   "execution_count": 18,
   "metadata": {},
   "outputs": [
    {
     "name": "stderr",
     "output_type": "stream",
     "text": [
      "[I 2024-08-03 17:00:11,201] A new study created in memory with name: no-name-cb361e34-0e94-4950-9e25-d257465ab00f\n",
      "C:\\Users\\diego\\AppData\\Local\\Temp\\ipykernel_11448\\2833674752.py:3: FutureWarning: suggest_loguniform has been deprecated in v3.0.0. This feature will be removed in v6.0.0. See https://github.com/optuna/optuna/releases/tag/v3.0.0. Use suggest_float(..., log=True) instead.\n",
      "  learning_rate = trial.suggest_loguniform('learning_rate', 1e-5, 5e-4)\n",
      "Some weights of BertForSequenceClassification were not initialized from the model checkpoint at neuralmind/bert-base-portuguese-cased and are newly initialized: ['classifier.bias', 'classifier.weight']\n",
      "You should probably TRAIN this model on a down-stream task to be able to use it for predictions and inference.\n",
      "c:\\Users\\diego\\miniconda3\\envs\\prodemge_env\\lib\\site-packages\\transformers\\models\\bert\\modeling_bert.py:439: UserWarning: 1Torch was not compiled with flash attention. (Triggered internally at C:\\actions-runner\\_work\\pytorch\\pytorch\\builder\\windows\\pytorch\\aten\\src\\ATen\\native\\transformers\\cuda\\sdp_utils.cpp:555.)\n",
      "  attn_output = torch.nn.functional.scaled_dot_product_attention(\n",
      "[I 2024-08-03 17:01:57,611] Trial 0 finished with value: 0.8591549295774648 and parameters: {'learning_rate': 2.9818626651915574e-05, 'batch_size': 8, 'num_epochs': 4}. Best is trial 0 with value: 0.8591549295774648.\n",
      "C:\\Users\\diego\\AppData\\Local\\Temp\\ipykernel_11448\\2833674752.py:3: FutureWarning: suggest_loguniform has been deprecated in v3.0.0. This feature will be removed in v6.0.0. See https://github.com/optuna/optuna/releases/tag/v3.0.0. Use suggest_float(..., log=True) instead.\n",
      "  learning_rate = trial.suggest_loguniform('learning_rate', 1e-5, 5e-4)\n",
      "Some weights of BertForSequenceClassification were not initialized from the model checkpoint at neuralmind/bert-base-portuguese-cased and are newly initialized: ['classifier.bias', 'classifier.weight']\n",
      "You should probably TRAIN this model on a down-stream task to be able to use it for predictions and inference.\n",
      "[I 2024-08-03 17:02:51,388] Trial 1 finished with value: 1.0 and parameters: {'learning_rate': 0.00011192968014092933, 'batch_size': 8, 'num_epochs': 2}. Best is trial 1 with value: 1.0.\n",
      "Some weights of BertForSequenceClassification were not initialized from the model checkpoint at neuralmind/bert-base-portuguese-cased and are newly initialized: ['classifier.bias', 'classifier.weight']\n",
      "You should probably TRAIN this model on a down-stream task to be able to use it for predictions and inference.\n",
      "[I 2024-08-03 17:03:45,288] Trial 2 finished with value: 0.8732394366197183 and parameters: {'learning_rate': 8.646188366900353e-05, 'batch_size': 8, 'num_epochs': 2}. Best is trial 1 with value: 1.0.\n",
      "Some weights of BertForSequenceClassification were not initialized from the model checkpoint at neuralmind/bert-base-portuguese-cased and are newly initialized: ['classifier.bias', 'classifier.weight']\n",
      "You should probably TRAIN this model on a down-stream task to be able to use it for predictions and inference.\n",
      "[I 2024-08-03 17:21:25,876] Trial 3 finished with value: 0.7746478873239436 and parameters: {'learning_rate': 1.8457752933011386e-05, 'batch_size': 16, 'num_epochs': 4}. Best is trial 1 with value: 1.0.\n",
      "Some weights of BertForSequenceClassification were not initialized from the model checkpoint at neuralmind/bert-base-portuguese-cased and are newly initialized: ['classifier.bias', 'classifier.weight']\n",
      "You should probably TRAIN this model on a down-stream task to be able to use it for predictions and inference.\n",
      "[I 2024-08-03 17:31:23,068] Trial 4 finished with value: 0.8873239436619719 and parameters: {'learning_rate': 6.9333422856405e-05, 'batch_size': 8, 'num_epochs': 3}. Best is trial 1 with value: 1.0.\n",
      "Some weights of BertForSequenceClassification were not initialized from the model checkpoint at neuralmind/bert-base-portuguese-cased and are newly initialized: ['classifier.bias', 'classifier.weight']\n",
      "You should probably TRAIN this model on a down-stream task to be able to use it for predictions and inference.\n",
      "[I 2024-08-03 17:57:16,331] Trial 5 finished with value: 0.9014084507042254 and parameters: {'learning_rate': 0.00020290265200731742, 'batch_size': 16, 'num_epochs': 6}. Best is trial 1 with value: 1.0.\n",
      "Some weights of BertForSequenceClassification were not initialized from the model checkpoint at neuralmind/bert-base-portuguese-cased and are newly initialized: ['classifier.bias', 'classifier.weight']\n",
      "You should probably TRAIN this model on a down-stream task to be able to use it for predictions and inference.\n",
      "[I 2024-08-03 18:25:15,601] Trial 6 finished with value: 0.8309859154929577 and parameters: {'learning_rate': 0.00023485051160487664, 'batch_size': 32, 'num_epochs': 3}. Best is trial 1 with value: 1.0.\n",
      "Some weights of BertForSequenceClassification were not initialized from the model checkpoint at neuralmind/bert-base-portuguese-cased and are newly initialized: ['classifier.bias', 'classifier.weight']\n",
      "You should probably TRAIN this model on a down-stream task to be able to use it for predictions and inference.\n",
      "[I 2024-08-03 18:38:00,046] Trial 7 finished with value: 0.9014084507042254 and parameters: {'learning_rate': 1.9399071366357555e-05, 'batch_size': 8, 'num_epochs': 4}. Best is trial 1 with value: 1.0.\n",
      "Some weights of BertForSequenceClassification were not initialized from the model checkpoint at neuralmind/bert-base-portuguese-cased and are newly initialized: ['classifier.bias', 'classifier.weight']\n",
      "You should probably TRAIN this model on a down-stream task to be able to use it for predictions and inference.\n",
      "[I 2024-08-03 19:05:41,785] Trial 8 finished with value: 0.4225352112676056 and parameters: {'learning_rate': 1.226538369099709e-05, 'batch_size': 32, 'num_epochs': 3}. Best is trial 1 with value: 1.0.\n",
      "Some weights of BertForSequenceClassification were not initialized from the model checkpoint at neuralmind/bert-base-portuguese-cased and are newly initialized: ['classifier.bias', 'classifier.weight']\n",
      "You should probably TRAIN this model on a down-stream task to be able to use it for predictions and inference.\n",
      "[I 2024-08-03 19:18:25,859] Trial 9 finished with value: 0.9577464788732394 and parameters: {'learning_rate': 3.653196479567531e-05, 'batch_size': 8, 'num_epochs': 4}. Best is trial 1 with value: 1.0.\n",
      "Some weights of BertForSequenceClassification were not initialized from the model checkpoint at neuralmind/bert-base-portuguese-cased and are newly initialized: ['classifier.bias', 'classifier.weight']\n",
      "You should probably TRAIN this model on a down-stream task to be able to use it for predictions and inference.\n",
      "[I 2024-08-03 19:43:44,096] Trial 10 finished with value: 0.16901408450704225 and parameters: {'learning_rate': 0.0004050203532612402, 'batch_size': 16, 'num_epochs': 6}. Best is trial 1 with value: 1.0.\n",
      "Some weights of BertForSequenceClassification were not initialized from the model checkpoint at neuralmind/bert-base-portuguese-cased and are newly initialized: ['classifier.bias', 'classifier.weight']\n",
      "You should probably TRAIN this model on a down-stream task to be able to use it for predictions and inference.\n",
      "[I 2024-08-03 19:50:07,473] Trial 11 finished with value: 0.9154929577464789 and parameters: {'learning_rate': 5.8890405086928865e-05, 'batch_size': 8, 'num_epochs': 2}. Best is trial 1 with value: 1.0.\n",
      "Some weights of BertForSequenceClassification were not initialized from the model checkpoint at neuralmind/bert-base-portuguese-cased and are newly initialized: ['classifier.bias', 'classifier.weight']\n",
      "You should probably TRAIN this model on a down-stream task to be able to use it for predictions and inference.\n",
      "[I 2024-08-03 20:06:05,020] Trial 12 finished with value: 0.9577464788732394 and parameters: {'learning_rate': 4.2914307789949584e-05, 'batch_size': 8, 'num_epochs': 5}. Best is trial 1 with value: 1.0.\n",
      "Some weights of BertForSequenceClassification were not initialized from the model checkpoint at neuralmind/bert-base-portuguese-cased and are newly initialized: ['classifier.bias', 'classifier.weight']\n",
      "You should probably TRAIN this model on a down-stream task to be able to use it for predictions and inference.\n",
      "[I 2024-08-03 20:12:26,508] Trial 13 finished with value: 0.36619718309859156 and parameters: {'learning_rate': 0.0001232262574837599, 'batch_size': 8, 'num_epochs': 2}. Best is trial 1 with value: 1.0.\n",
      "Some weights of BertForSequenceClassification were not initialized from the model checkpoint at neuralmind/bert-base-portuguese-cased and are newly initialized: ['classifier.bias', 'classifier.weight']\n",
      "You should probably TRAIN this model on a down-stream task to be able to use it for predictions and inference.\n",
      "[I 2024-08-03 20:28:22,693] Trial 14 finished with value: 0.9295774647887324 and parameters: {'learning_rate': 0.0001292085211014541, 'batch_size': 8, 'num_epochs': 5}. Best is trial 1 with value: 1.0.\n",
      "Some weights of BertForSequenceClassification were not initialized from the model checkpoint at neuralmind/bert-base-portuguese-cased and are newly initialized: ['classifier.bias', 'classifier.weight']\n",
      "You should probably TRAIN this model on a down-stream task to be able to use it for predictions and inference.\n"
     ]
    }
   ],
   "source": [
    "def objective(trial):\n",
    "    # Definir hiperparâmetros para a otimização\n",
    "    learning_rate = trial.suggest_loguniform('learning_rate', 1e-5, 5e-4)\n",
    "    batch_size = trial.suggest_categorical('batch_size', [8, 16, 32])\n",
    "    num_epochs = trial.suggest_int('num_epochs', 2, 6)\n",
    "    \n",
    "    sentences = [sentence for sentence_group in balanced_corpus.values() for sentence in sentence_group]\n",
    "    labels_dict = {label: i for i, label in enumerate(balanced_corpus.keys())}\n",
    "    labels = [label for label in balanced_corpus.keys() for _ in range(len(balanced_corpus[label]))]\n",
    "    labels = [labels_dict[label] for label in labels]\n",
    "\n",
    "    model = AutoModelForSequenceClassification.from_pretrained('neuralmind/bert-base-portuguese-cased', num_labels=len(labels_dict))\n",
    "    tokenizer = AutoTokenizer.from_pretrained('neuralmind/bert-base-portuguese-cased', do_lower_case=False)\n",
    "\n",
    "    train_sentences, test_sentences, train_labels, test_labels = train_test_split(sentences, labels, test_size=0.2, random_state=42)\n",
    "\n",
    "    max_length = 512\n",
    "    train_inputs = tokenizer(train_sentences, return_tensors=\"pt\", padding=True, truncation=True, max_length=max_length)\n",
    "    test_inputs = tokenizer(test_sentences, return_tensors=\"pt\", padding=True, truncation=True, max_length=max_length)\n",
    "\n",
    "    train_dataset = TensorDataset(train_inputs['input_ids'], train_inputs['attention_mask'], torch.tensor(train_labels))\n",
    "    test_dataset = TensorDataset(test_inputs['input_ids'], test_inputs['attention_mask'], torch.tensor(test_labels))\n",
    "\n",
    "    train_dataloader = DataLoader(train_dataset, batch_size=batch_size)\n",
    "    test_dataloader = DataLoader(test_dataset, batch_size=batch_size)\n",
    "\n",
    "    optimizer = AdamW(model.parameters(), lr=learning_rate)\n",
    "    scheduler = get_linear_schedule_with_warmup(optimizer, num_warmup_steps=0, num_training_steps=len(train_dataloader) * num_epochs)\n",
    "\n",
    "    device = torch.device('cuda') if torch.cuda.is_available() else torch.device('cpu')\n",
    "    model.to(device)\n",
    "\n",
    "    model.train()\n",
    "    for epoch in range(num_epochs):\n",
    "        for batch in train_dataloader:\n",
    "            optimizer.zero_grad()\n",
    "            input_ids, attention_mask, labels = tuple(t.to(device) for t in batch)\n",
    "            outputs = model(input_ids, attention_mask=attention_mask, labels=labels)\n",
    "            loss = outputs.loss\n",
    "            loss.backward()\n",
    "            optimizer.step()\n",
    "            scheduler.step()\n",
    "\n",
    "    model.eval()\n",
    "    correct = 0\n",
    "    total = 0\n",
    "    with torch.no_grad():\n",
    "        for batch in test_dataloader:\n",
    "            input_ids, attention_mask, labels = tuple(t.to(device) for t in batch)\n",
    "            outputs = model(input_ids, attention_mask=attention_mask)\n",
    "            _, predicted = torch.max(outputs.logits, 1)\n",
    "            total += labels.size(0)\n",
    "            correct += (predicted == labels).sum().item()\n",
    "\n",
    "    accuracy = correct / total\n",
    "    return accuracy\n",
    "\n",
    "study = optuna.create_study(direction='maximize')\n",
    "study.optimize(objective, n_trials=20)\n",
    "\n",
    "print(\"Melhores hiperparâmetros: \", study.best_params)\n",
    "print(\"Melhor acurácia: \", study.best_value)"
   ]
  },
  {
   "cell_type": "code",
   "execution_count": 40,
   "metadata": {},
   "outputs": [
    {
     "name": "stderr",
     "output_type": "stream",
     "text": [
      "Some weights of BertForSequenceClassification were not initialized from the model checkpoint at neuralmind/bert-base-portuguese-cased and are newly initialized: ['classifier.bias', 'classifier.weight']\n",
      "You should probably TRAIN this model on a down-stream task to be able to use it for predictions and inference.\n"
     ]
    },
    {
     "name": "stdout",
     "output_type": "stream",
     "text": [
      "Epoch: 1, Loss: 1.6341867446899414\n",
      "Epoch: 1, Loss: 1.7509791851043701\n",
      "Epoch: 1, Loss: 1.7385274171829224\n",
      "Epoch: 1, Loss: 1.584486722946167\n",
      "Epoch: 1, Loss: 1.6345984935760498\n",
      "Epoch: 1, Loss: 1.500366449356079\n",
      "Epoch: 1, Loss: 1.637732744216919\n",
      "Epoch: 1, Loss: 1.532938838005066\n",
      "Epoch: 1, Loss: 1.7306888103485107\n",
      "Epoch: 1, Loss: 1.4345636367797852\n",
      "Epoch: 1, Loss: 1.6680219173431396\n",
      "Epoch: 1, Loss: 1.6887059211730957\n",
      "Epoch: 1, Loss: 1.4596357345581055\n",
      "Epoch: 1, Loss: 1.4798845052719116\n",
      "Epoch: 1, Loss: 1.3508882522583008\n",
      "Epoch: 1, Loss: 1.3904569149017334\n",
      "Epoch: 1, Loss: 1.2457129955291748\n",
      "Epoch: 1, Loss: 1.2197612524032593\n",
      "Epoch: 1, Loss: 1.4608525037765503\n",
      "Epoch: 1, Loss: 1.149946689605713\n",
      "Epoch: 1, Loss: 1.1437511444091797\n",
      "Epoch: 1, Loss: 1.3481992483139038\n",
      "Epoch: 1, Loss: 1.2218270301818848\n",
      "Epoch: 1, Loss: 1.0828537940979004\n",
      "Epoch: 1, Loss: 0.9670946002006531\n",
      "Epoch: 1, Loss: 1.1129915714263916\n",
      "Epoch: 1, Loss: 0.8250787258148193\n",
      "Epoch: 1, Loss: 0.6683709025382996\n",
      "Epoch: 1, Loss: 1.122336745262146\n",
      "Epoch: 1, Loss: 1.0049179792404175\n",
      "Epoch: 1, Loss: 0.5855040550231934\n",
      "Epoch: 1, Loss: 0.9083281755447388\n",
      "Epoch: 1, Loss: 0.8439400792121887\n",
      "Epoch: 1, Loss: 0.878027081489563\n",
      "Epoch: 1, Loss: 1.1119385957717896\n",
      "Epoch: 1, Loss: 0.750007688999176\n",
      "Epoch: 2, Loss: 0.4976087212562561\n",
      "Epoch: 2, Loss: 0.4930916130542755\n",
      "Epoch: 2, Loss: 0.6855822205543518\n",
      "Epoch: 2, Loss: 0.6293636560440063\n",
      "Epoch: 2, Loss: 0.5186936855316162\n",
      "Epoch: 2, Loss: 0.5259166955947876\n",
      "Epoch: 2, Loss: 0.718134880065918\n",
      "Epoch: 2, Loss: 0.7093912363052368\n",
      "Epoch: 2, Loss: 0.3194600045681\n",
      "Epoch: 2, Loss: 0.3235287666320801\n",
      "Epoch: 2, Loss: 0.7263727784156799\n",
      "Epoch: 2, Loss: 0.32814085483551025\n",
      "Epoch: 2, Loss: 0.3068664073944092\n",
      "Epoch: 2, Loss: 0.5029017329216003\n",
      "Epoch: 2, Loss: 0.21407991647720337\n",
      "Epoch: 2, Loss: 0.22931066155433655\n",
      "Epoch: 2, Loss: 0.4359245300292969\n",
      "Epoch: 2, Loss: 0.37936338782310486\n",
      "Epoch: 2, Loss: 0.8514846563339233\n",
      "Epoch: 2, Loss: 0.281141072511673\n",
      "Epoch: 2, Loss: 0.30146530270576477\n",
      "Epoch: 2, Loss: 0.3772369623184204\n",
      "Epoch: 2, Loss: 0.1628451943397522\n",
      "Epoch: 2, Loss: 0.5558174252510071\n",
      "Epoch: 2, Loss: 0.2560572624206543\n",
      "Epoch: 2, Loss: 0.2438988834619522\n",
      "Epoch: 2, Loss: 0.17386293411254883\n",
      "Epoch: 2, Loss: 0.1851343810558319\n",
      "Epoch: 2, Loss: 0.6698617339134216\n",
      "Epoch: 2, Loss: 0.2691291868686676\n",
      "Epoch: 2, Loss: 0.16789692640304565\n",
      "Epoch: 2, Loss: 0.20979835093021393\n",
      "Epoch: 2, Loss: 0.30517303943634033\n",
      "Epoch: 2, Loss: 0.2480260729789734\n",
      "Epoch: 2, Loss: 0.301299512386322\n",
      "Epoch: 2, Loss: 0.1658526360988617\n"
     ]
    }
   ],
   "source": [
    "# Definir hiperparâmetros para a otimização\n",
    "learning_rate = 0.00011192968014092933\n",
    "batch_size = 8\n",
    "num_epochs = 2\n",
    "\n",
    "sentences = [sentence for sentence_group in balanced_corpus.values() for sentence in sentence_group]\n",
    "labels_dict = {label: i for i, label in enumerate(balanced_corpus.keys())}\n",
    "labels = [label for label in balanced_corpus.keys() for _ in range(len(balanced_corpus[label]))]\n",
    "labels = [labels_dict[label] for label in labels]\n",
    "\n",
    "model = AutoModelForSequenceClassification.from_pretrained('neuralmind/bert-base-portuguese-cased', num_labels=len(labels_dict))\n",
    "tokenizer = AutoTokenizer.from_pretrained('neuralmind/bert-base-portuguese-cased', do_lower_case=False)\n",
    "\n",
    "train_sentences, test_sentences, train_labels, test_labels = train_test_split(sentences, labels, test_size=0.2, random_state=42)\n",
    "\n",
    "max_length = 512\n",
    "train_inputs = tokenizer(train_sentences, return_tensors=\"pt\", padding=True, truncation=True, max_length=max_length)\n",
    "test_inputs = tokenizer(test_sentences, return_tensors=\"pt\", padding=True, truncation=True, max_length=max_length)\n",
    "\n",
    "train_dataset = TensorDataset(train_inputs['input_ids'], train_inputs['attention_mask'], torch.tensor(train_labels))\n",
    "test_dataset = TensorDataset(test_inputs['input_ids'], test_inputs['attention_mask'], torch.tensor(test_labels))\n",
    "\n",
    "train_dataloader = DataLoader(train_dataset, batch_size=batch_size)\n",
    "test_dataloader = DataLoader(test_dataset, batch_size=batch_size)\n",
    "\n",
    "optimizer = AdamW(model.parameters(), lr=learning_rate)\n",
    "scheduler = get_linear_schedule_with_warmup(optimizer, num_warmup_steps=0, num_training_steps=len(train_dataloader) * num_epochs)\n",
    "\n",
    "device = torch.device('cuda') if torch.cuda.is_available() else torch.device('cpu')\n",
    "model.to(device)\n",
    "\n",
    "model.train()\n",
    "for epoch in range(num_epochs):\n",
    "    for batch in train_dataloader:\n",
    "        optimizer.zero_grad()\n",
    "        input_ids, attention_mask, labels = tuple(t.to(device) for t in batch)\n",
    "        outputs = model(input_ids, attention_mask=attention_mask, labels=labels)\n",
    "        loss = outputs.loss\n",
    "        loss.backward()\n",
    "        optimizer.step()\n",
    "        scheduler.step()\n",
    "        print(f'Epoch: {epoch + 1}, Loss: {loss}')"
   ]
  },
  {
   "cell_type": "code",
   "execution_count": 37,
   "metadata": {},
   "outputs": [
    {
     "name": "stdout",
     "output_type": "stream",
     "text": [
      "Accuracy: 0.8732394366197183\n"
     ]
    },
    {
     "data": {
      "image/png": "[encoded data removed]",
      "text/plain": [
       "<Figure size 800x600 with 2 Axes>"
      ]
     },
     "metadata": {},
     "output_type": "display_data"
    }
   ],
   "source": [
    "from sklearn.metrics import accuracy_score\n",
    "from sklearn.metrics import confusion_matrix\n",
    "import matplotlib.pyplot as plt\n",
    "import seaborn as sns\n",
    "\n",
    "# Armazenar todas as previsões e rótulos verdadeiros\n",
    "all_predictions = []\n",
    "all_true_labels = []\n",
    "\n",
    "model.eval()\n",
    "with torch.no_grad():\n",
    "    for batch in test_dataloader:\n",
    "        input_ids, attention_mask, labels = tuple(t.to(device) for t in batch)\n",
    "        outputs = model(input_ids, attention_mask=attention_mask)\n",
    "        _, predicted = torch.max(outputs.logits, 1)\n",
    "        all_predictions.extend(predicted.tolist())\n",
    "        all_true_labels.extend(labels.tolist())\n",
    "\n",
    "accuracy = accuracy_score(all_true_labels, all_predictions)\n",
    "print(\"Accuracy:\", accuracy)\n",
    "# Calcular a matriz de confusão\n",
    "conf_matrix = confusion_matrix(all_true_labels, all_predictions)\n",
    "fig, ax = plt.subplots(figsize=(8, 6))\n",
    "sns.heatmap(conf_matrix, annot=True, fmt='d', cmap='Blues', ax=ax)\n",
    "ax.set_xlabel('Predicted Labels')\n",
    "ax.set_ylabel('True Labels')\n",
    "ax.set_title('Confusion Matrix')\n",
    "plt.show()\n"
   ]
  },
  {
   "cell_type": "code",
   "execution_count": 38,
   "metadata": {},
   "outputs": [],
   "source": [
    "def predict_text(text, model, tokenizer, device):\n",
    "    # Preparar o texto para o modelo\n",
    "    inputs = tokenizer(text, return_tensors=\"pt\", padding=True, truncation=True, max_length=512)\n",
    "    \n",
    "    # Mover para o dispositivo apropriado (GPU ou CPU)\n",
    "    input_ids = inputs['input_ids'].to(device)\n",
    "    attention_mask = inputs['attention_mask'].to(device)\n",
    "    \n",
    "    # Avaliar o modelo\n",
    "    model.eval()\n",
    "    with torch.no_grad():\n",
    "        outputs = model(input_ids, attention_mask=attention_mask)\n",
    "    \n",
    "    # Obter a maior pontuação de logits (índice do valor máximo)\n",
    "    _, predicted_index = torch.max(outputs.logits, 1)\n",
    "    \n",
    "    # Converter o índice previsto em etiqueta de classe\n",
    "    predicted_label = list(labels_dict.keys())[predicted_index.item()]\n",
    "    \n",
    "    return predicted_label"
   ]
  },
  {
   "cell_type": "code",
   "execution_count": 19,
   "metadata": {},
   "outputs": [
    {
     "name": "stdout",
     "output_type": "stream",
     "text": [
      "EDM\n",
      "BAI\n",
      "APO\n"
     ]
    }
   ],
   "source": [
    "for alvo in alvos_data:\n",
    "    print(predict_text(alvo, model, tokenizer, device))"
   ]
  }
 ],
 "metadata": {
  "kernelspec": {
   "display_name": "prodemge_env",
   "language": "python",
   "name": "python3"
  },
  "language_info": {
   "codemirror_mode": {
    "name": "ipython",
    "version": 3
   },
   "file_extension": ".py",
   "mimetype": "text/x-python",
   "name": "python",
   "nbconvert_exporter": "python",
   "pygments_lexer": "ipython3",
   "version": "3.8.19"
  }
 },
 "nbformat": 4,
 "nbformat_minor": 2
}
